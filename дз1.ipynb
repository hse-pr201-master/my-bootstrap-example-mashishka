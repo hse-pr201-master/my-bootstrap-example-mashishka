{
 "cells": [
  {
   "cell_type": "markdown",
   "id": "5d92f6e4",
   "metadata": {},
   "source": [
    "# Задача\n",
    "\n",
    "В водоеме обитает некоторая биологическая популяция, состоящая из смеси особей двух возрастов. Длина особи - случайная величина, распределенная по нормальному закону $N(a_{i}, \\sigma_{i} )$, где i=1,2 - индекс, относящийся к возрасту. С целью определения доли q особей 1-го возраста проведен отлов n особей и измерена их длина. По результатам $х_{1}$,…,$х_{n}$  построить оценку $\\hat{q}$ для q  и приближенный доверительный интервал с уровнем доверия Рд . "
   ]
  },
  {
   "cell_type": "markdown",
   "id": "3bdcf763",
   "metadata": {},
   "source": [
    "##### Решение (без вывода):\n",
    "$$I = (q_{1}, q_{2})  $$"
   ]
  },
  {
   "cell_type": "markdown",
   "id": "3ad4f454",
   "metadata": {},
   "source": [
    "$$q_{1,2} =  \\frac{(\\hat{q} + \\frac{t_{p}^2}{2n}) \\pm t_{p}\\sqrt{\\frac{1}{n}\\big[\\hat{q}(1 - \\hat{q} + \\frac{\\sigma^2}{(a1-a2)^2}\\big] + \\alpha_{n}} }{1 + \\frac{t_{p}^2}{n}}   $$"
   ]
  },
  {
   "cell_type": "markdown",
   "id": "f69991ae",
   "metadata": {},
   "source": [
    "$$\\alpha_{n} \\equiv \\frac{f_{p}^2}{n^2}(\\frac{1}{4} + \\frac{\\sigma^2}{(a_{1} - a_{2})^2})  $$"
   ]
  },
  {
   "cell_type": "markdown",
   "id": "60c8135e",
   "metadata": {},
   "source": [
    "$t_{p}$ - квантиль порядка $\\frac{1 + Pд}{2}$ для $N(0,1)$"
   ]
  },
  {
   "cell_type": "markdown",
   "id": "8e415194",
   "metadata": {},
   "source": [
    "# Найдем доверительный инретвал, используя бутстрап:"
   ]
  },
  {
   "cell_type": "code",
   "execution_count": 1,
   "id": "7494db97",
   "metadata": {},
   "outputs": [
    {
     "name": "stdout",
     "output_type": "stream",
     "text": [
      "Collecting arch\n",
      "  Downloading arch-6.2.0-cp39-cp39-win_amd64.whl (923 kB)\n",
      "Requirement already satisfied: scipy>=1.5 in c:\\users\\masha\\anaconda3\\lib\\site-packages (from arch) (1.7.3)\n",
      "Requirement already satisfied: statsmodels>=0.12 in c:\\users\\masha\\anaconda3\\lib\\site-packages (from arch) (0.13.2)\n",
      "Requirement already satisfied: pandas>=1.1 in c:\\users\\masha\\anaconda3\\lib\\site-packages (from arch) (1.4.2)\n",
      "Requirement already satisfied: numpy>=1.19 in c:\\users\\masha\\anaconda3\\lib\\site-packages (from arch) (1.21.5)\n",
      "Requirement already satisfied: python-dateutil>=2.8.1 in c:\\users\\masha\\anaconda3\\lib\\site-packages (from pandas>=1.1->arch) (2.8.2)\n",
      "Requirement already satisfied: pytz>=2020.1 in c:\\users\\masha\\anaconda3\\lib\\site-packages (from pandas>=1.1->arch) (2021.3)\n",
      "Requirement already satisfied: six>=1.5 in c:\\users\\masha\\anaconda3\\lib\\site-packages (from python-dateutil>=2.8.1->pandas>=1.1->arch) (1.16.0)\n",
      "Requirement already satisfied: patsy>=0.5.2 in c:\\users\\masha\\anaconda3\\lib\\site-packages (from statsmodels>=0.12->arch) (0.5.2)\n",
      "Requirement already satisfied: packaging>=21.3 in c:\\users\\masha\\anaconda3\\lib\\site-packages (from statsmodels>=0.12->arch) (21.3)\n",
      "Requirement already satisfied: pyparsing!=3.0.5,>=2.0.2 in c:\\users\\masha\\anaconda3\\lib\\site-packages (from packaging>=21.3->statsmodels>=0.12->arch) (3.0.4)\n",
      "Installing collected packages: arch\n",
      "Successfully installed arch-6.2.0\n",
      "Note: you may need to restart the kernel to use updated packages.\n"
     ]
    }
   ],
   "source": [
    "pip install arch"
   ]
  },
  {
   "cell_type": "code",
   "execution_count": 5,
   "id": "4740f437",
   "metadata": {},
   "outputs": [],
   "source": [
    "import numpy as np\n",
    "import pandas as pd\n",
    "import seaborn as sns\n",
    "from arch.bootstrap import IIDBootstrap, IndependentSamplesBootstrap\n",
    "import scipy.stats as sts\n",
    "import random"
   ]
  },
  {
   "cell_type": "code",
   "execution_count": 13,
   "id": "0442267e",
   "metadata": {},
   "outputs": [
    {
     "data": {
      "text/plain": [
       "array([6.64133597, 3.86815246, 9.20115883, 6.92027673, 7.40932941,\n",
       "       8.91665051, 9.24173198, 5.62585098, 9.73621497, 7.3041373 ,\n",
       "       5.71459474, 9.09689354, 7.7487192 , 7.1088715 , 3.82493008,\n",
       "       9.23092266, 8.24739101, 9.38227656, 4.87828331, 4.72462342,\n",
       "       7.01787393, 7.3093546 , 9.03650733, 7.31611086, 8.46712852,\n",
       "       9.01350623, 8.85344913, 6.32146885, 5.69723839, 5.99773697,\n",
       "       9.179211  , 5.2933073 , 7.9084396 , 6.05286825, 8.4566869 ,\n",
       "       9.0695115 , 4.9219151 , 5.5334535 , 6.10992009, 9.9875473 ])"
      ]
     },
     "execution_count": 13,
     "metadata": {},
     "output_type": "execute_result"
    }
   ],
   "source": [
    "n = 40\n",
    "a1 = 6\n",
    "a2 = 9\n",
    "Pd = 0.95\n",
    "#q = 0.5\n",
    "sigma=1\n",
    "\n",
    "#Сгенирируем выборку\n",
    "x = np.hstack((sts.norm(loc=a1, scale=1).rvs(size=int(n*q)), sts.norm(loc=a2, scale=1).rvs(size=int(n*q))))\n",
    "random.shuffle(x)\n",
    "x"
   ]
  },
  {
   "cell_type": "code",
   "execution_count": 14,
   "id": "ee7e22cd",
   "metadata": {},
   "outputs": [
    {
     "data": {
      "text/plain": [
       "0.5636201625392321"
      ]
     },
     "execution_count": 14,
     "metadata": {},
     "output_type": "execute_result"
    }
   ],
   "source": [
    "#Оценка, построенная методом моментов\n",
    "def q_hat(x):\n",
    "    return (x.mean() - a2)/ (a1 - a2) \n",
    "q_hat(x)"
   ]
  },
  {
   "cell_type": "code",
   "execution_count": 15,
   "id": "42197a01",
   "metadata": {},
   "outputs": [
    {
     "data": {
      "text/plain": [
       "array([[0.38520988],\n",
       "       [0.73877199]])"
      ]
     },
     "execution_count": 15,
     "metadata": {},
     "output_type": "execute_result"
    }
   ],
   "source": [
    "boot = IIDBootstrap(x, seed=1)\n",
    "boot.conf_int(q_hat, method='basic', reps=10000, size=0.95)"
   ]
  },
  {
   "cell_type": "markdown",
   "id": "13186967",
   "metadata": {},
   "source": [
    "# Посмотрим доверительный интервал, используя матстат"
   ]
  },
  {
   "cell_type": "code",
   "execution_count": 26,
   "id": "d9d84e6f",
   "metadata": {},
   "outputs": [],
   "source": [
    "tp = sts.norm(loc=7.5, scale=1).ppf((1+Pd)/2)\n",
    "alpha_n = fp*fp/(n*n)*(0.25 + sigma*sigma/((a1-a2)*(a1-a2)))\n",
    "q2 = (q_hat(x) + tp*tp/(2*n) + tp*np.sqrt(1/n*(q_hat(x)*(1-q_hat(x))+sigma*sigma/((a1-a2)*(a1-a2)))))/(1 + tp*tp/n)\n",
    "q1 = (q_hat(x) + tp*tp/(2*n) - tp*np.sqrt(1/n*(q_hat(x)*(1-q_hat(x))+sigma*sigma/((a1-a2)*(a1-a2)))))/(1 + tp*tp/n)"
   ]
  },
  {
   "cell_type": "code",
   "execution_count": 27,
   "id": "4ee5e415",
   "metadata": {},
   "outputs": [
    {
     "name": "stdout",
     "output_type": "stream",
     "text": [
      "q1 =  0.2435609496527738\n",
      "q2 =  0.7957438375755947\n",
      "I = (0.2436, 0.7957)\n"
     ]
    }
   ],
   "source": [
    "print('q1 = ', q1)\n",
    "print('q2 = ', q2)\n",
    "print(f'I = ({round(q1, 4)}, {round(q2, 4)})')"
   ]
  },
  {
   "cell_type": "code",
   "execution_count": null,
   "id": "5b0e0a8f",
   "metadata": {},
   "outputs": [],
   "source": []
  }
 ],
 "metadata": {
  "kernelspec": {
   "display_name": "Python 3 (ipykernel)",
   "language": "python",
   "name": "python3"
  },
  "language_info": {
   "codemirror_mode": {
    "name": "ipython",
    "version": 3
   },
   "file_extension": ".py",
   "mimetype": "text/x-python",
   "name": "python",
   "nbconvert_exporter": "python",
   "pygments_lexer": "ipython3",
   "version": "3.9.12"
  }
 },
 "nbformat": 4,
 "nbformat_minor": 5
}
